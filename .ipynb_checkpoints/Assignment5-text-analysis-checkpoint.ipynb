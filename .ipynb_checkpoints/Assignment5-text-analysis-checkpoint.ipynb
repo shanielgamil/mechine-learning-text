{
 "cells": [
  {
   "cell_type": "markdown",
   "metadata": {},
   "source": [
    "# Assignment 5 - Text Analysis\n",
    "An explanation this assignment could be found in the .pdf explanation document"
   ]
  },
  {
   "cell_type": "markdown",
   "metadata": {},
   "source": [
    "\n",
    "## Materials to review for this assignment\n",
    "<h4>From Moodle:</h4> \n",
    "<h5><u>Review the notebooks regarding the following python topics</u>:</h5>\n",
    "<div class=\"alert alert-info\">\n",
    "&#x2714; <b>Working with strings</b> (tutorial notebook)<br/>\n",
    "&#x2714; <b>Text Analysis</b> (tutorial notebook)<br/>\n",
    "&#x2714; <b>Hebrew text analysis tools (tokenizer, wordnet)</b> (moodle example)<br/>\n",
    "&#x2714; <b>(brief review) All previous notebooks</b><br/>\n",
    "</div> \n",
    "<h5><u>Review the presentations regarding the following topics</u>:</h5>\n",
    "<div class=\"alert alert-info\">\n",
    "&#x2714; <b>Text Analysis</b> (lecture presentation)<br/>\n",
    "&#x2714; <b>(brief review) All other presentations</b><br/>\n",
    "</div>"
   ]
  },
  {
   "cell_type": "markdown",
   "metadata": {},
   "source": [
    "## Preceding Step - import modules (packages)\n",
    "This step is necessary in order to use external modules (packages). <br/>"
   ]
  },
  {
   "cell_type": "code",
   "execution_count": 1,
   "metadata": {},
   "outputs": [],
   "source": [
    "# --------------------------------------\n",
    "import pandas as pd\n",
    "import numpy as np\n",
    "# --------------------------------------\n",
    "\n",
    "\n",
    "# --------------------------------------\n",
    "# ------------- visualizations:\n",
    "import seaborn as sns\n",
    "import matplotlib.pyplot as plt\n",
    "from matplotlib.colors import ListedColormap\n",
    "# --------------------------------------\n",
    "\n",
    "\n",
    "# ---------------------------------------\n",
    "import sklearn\n",
    "from sklearn import preprocessing, metrics, pipeline, model_selection, feature_extraction \n",
    "from sklearn import naive_bayes, linear_model, svm, neural_network, neighbors, tree\n",
    "from sklearn import decomposition, cluster\n",
    "\n",
    "from sklearn.model_selection import train_test_split, cross_val_score, GridSearchCV \n",
    "from sklearn.pipeline import Pipeline\n",
    "from sklearn.metrics import accuracy_score, confusion_matrix\n",
    "from sklearn.metrics import precision_score, recall_score, f1_score\n",
    "from sklearn.metrics import mean_squared_error, r2_score, silhouette_score\n",
    "from sklearn.preprocessing import MinMaxScaler, StandardScaler, LabelEncoder\n",
    "\n",
    "from sklearn.svm import LinearSVC\n",
    "from sklearn.neural_network import MLPClassifier\n",
    "from sklearn.linear_model import Perceptron, SGDClassifier\n",
    "from sklearn.decomposition import PCA\n",
    "from sklearn.cluster import KMeans\n",
    "from sklearn.naive_bayes import MultinomialNB, GaussianNB\n",
    "from sklearn.neighbors import KNeighborsClassifier\n",
    "from sklearn.tree import DecisionTreeClassifier\n",
    "# ---------------------------------------\n",
    "\n",
    "\n",
    "# ----------------- output and visualizations: \n",
    "import warnings\n",
    "from sklearn.exceptions import ConvergenceWarning\n",
    "warnings.simplefilter(\"ignore\")\n",
    "warnings.simplefilter(action='ignore', category=FutureWarning)\n",
    "warnings.simplefilter(\"ignore\", category=ConvergenceWarning)\n",
    "# show several prints in one cell. This will allow us to condence every trick in one cell.\n",
    "from IPython.core.interactiveshell import InteractiveShell\n",
    "InteractiveShell.ast_node_interactivity = \"all\"\n",
    "%matplotlib inline\n",
    "pd.pandas.set_option('display.max_columns', None)\n",
    "pd.set_option('display.float_format', lambda x: '%.3f' % x)\n",
    "# ---------------------------------------"
   ]
  },
  {
   "cell_type": "markdown",
   "metadata": {},
   "source": [
    "### Text analysis and String manipulation imports:"
   ]
  },
  {
   "cell_type": "code",
   "execution_count": 2,
   "metadata": {},
   "outputs": [],
   "source": [
    "# --------------------------------------\n",
    "# --------- Text analysis and Hebrew text analysis imports:\n",
    "# vectorizers:\n",
    "from sklearn.feature_extraction import text\n",
    "from sklearn.feature_extraction.text import CountVectorizer, TfidfVectorizer\n",
    "\n",
    "# regular expressions:\n",
    "import re\n",
    "# --------------------------------------"
   ]
  },
  {
   "cell_type": "markdown",
   "metadata": {},
   "source": [
    "### (optional) Hebrew text analysis - WordNet (for Hebrew)\n",
    "Note: the WordNet is not a must"
   ]
  },
  {
   "cell_type": "markdown",
   "metadata": {},
   "source": [
    "#### (optional) Only if you didn't install Wordnet (for Hebrew) use:"
   ]
  },
  {
   "cell_type": "code",
   "execution_count": 3,
   "metadata": {},
   "outputs": [],
   "source": [
    "# word net installation:\n",
    "\n",
    "# unmark if you want to use and need to install\n",
    "#!pip install wn\n",
    "# !python -m wn download omw-he:1.4"
   ]
  },
  {
   "cell_type": "code",
   "execution_count": 4,
   "metadata": {},
   "outputs": [],
   "source": [
    "# word net import:\n",
    "\n",
    "# unmark if you want to use:\n",
    " #import wn"
   ]
  },
  {
   "cell_type": "markdown",
   "metadata": {},
   "source": [
    "### (optional) Hebrew text analysis - hebrew_tokenizer (Tokenizer for Hebrew)\n",
    "Note: the hebrew_tokenizer is not a must"
   ]
  },
  {
   "cell_type": "markdown",
   "metadata": {},
   "source": [
    "#### (optional) Only if you didn't install hebrew_tokenizer use:"
   ]
  },
  {
   "cell_type": "code",
   "execution_count": 5,
   "metadata": {},
   "outputs": [],
   "source": [
    "# Hebrew tokenizer installation:\n",
    "\n",
    "# unmark if you want to use and need to install:\n",
    "#!pip install hebrew_tokenizer"
   ]
  },
  {
   "cell_type": "code",
   "execution_count": 6,
   "metadata": {},
   "outputs": [],
   "source": [
    "# Hebrew tokenizer import:\n",
    "\n",
    "# unmark if you want to use:\n",
    "#import hebrew_tokenizer as ht"
   ]
  },
  {
   "cell_type": "markdown",
   "metadata": {},
   "source": [
    "### Reading input files\n",
    "Reading input files for train annotated corpus (raw text data) corpus and for the test corpus"
   ]
  },
  {
   "cell_type": "code",
   "execution_count": 7,
   "metadata": {},
   "outputs": [],
   "source": [
    "train_filename = 'annotated_corpus_for_train.csv'\n",
    "test_filename  = 'corpus_for_test.csv'\n",
    "df_train = pd.read_csv(train_filename, index_col=None, encoding='utf-8')\n",
    "df_test  = pd.read_csv(test_filename, index_col=None, encoding='utf-8')"
   ]
  },
  {
   "cell_type": "code",
   "execution_count": 8,
   "metadata": {},
   "outputs": [
    {
     "data": {
      "text/html": [
       "<div>\n",
       "<style scoped>\n",
       "    .dataframe tbody tr th:only-of-type {\n",
       "        vertical-align: middle;\n",
       "    }\n",
       "\n",
       "    .dataframe tbody tr th {\n",
       "        vertical-align: top;\n",
       "    }\n",
       "\n",
       "    .dataframe thead th {\n",
       "        text-align: right;\n",
       "    }\n",
       "</style>\n",
       "<table border=\"1\" class=\"dataframe\">\n",
       "  <thead>\n",
       "    <tr style=\"text-align: right;\">\n",
       "      <th></th>\n",
       "      <th>story</th>\n",
       "      <th>gender</th>\n",
       "    </tr>\n",
       "  </thead>\n",
       "  <tbody>\n",
       "    <tr>\n",
       "      <th>0</th>\n",
       "      <td>כשחבר הזמין אותי לחול, לא באמת חשבתי שזה יקרה,...</td>\n",
       "      <td>m</td>\n",
       "    </tr>\n",
       "    <tr>\n",
       "      <th>1</th>\n",
       "      <td>לפני שהתגייסתי לצבא עשיתי כל מני מיונים ליחידו...</td>\n",
       "      <td>m</td>\n",
       "    </tr>\n",
       "    <tr>\n",
       "      <th>2</th>\n",
       "      <td>מאז שהתחילו הלימודים חלומו של כל סטודנט זה הפנ...</td>\n",
       "      <td>f</td>\n",
       "    </tr>\n",
       "    <tr>\n",
       "      <th>3</th>\n",
       "      <td>כשהייתי ילד, מטוסים היה הדבר שהכי ריתק אותי. ב...</td>\n",
       "      <td>m</td>\n",
       "    </tr>\n",
       "    <tr>\n",
       "      <th>4</th>\n",
       "      <td>‏הייתי מדריכה בכפר נוער ומתאם הכפר היינו צריכי...</td>\n",
       "      <td>f</td>\n",
       "    </tr>\n",
       "    <tr>\n",
       "      <th>5</th>\n",
       "      <td>לפני כ3 חודשים טסתי לרומא למשך שבוע. טסתי במטו...</td>\n",
       "      <td>f</td>\n",
       "    </tr>\n",
       "    <tr>\n",
       "      <th>6</th>\n",
       "      <td>אני כבר שנתיים נשוי והשנה אני ואישתי סוף סוף י...</td>\n",
       "      <td>m</td>\n",
       "    </tr>\n",
       "    <tr>\n",
       "      <th>7</th>\n",
       "      <td>השנה התחלנו שיפוץ בדירה שלנו בתל אביב. הדירה ה...</td>\n",
       "      <td>f</td>\n",
       "    </tr>\n",
       "  </tbody>\n",
       "</table>\n",
       "</div>"
      ],
      "text/plain": [
       "                                               story gender\n",
       "0  כשחבר הזמין אותי לחול, לא באמת חשבתי שזה יקרה,...      m\n",
       "1  לפני שהתגייסתי לצבא עשיתי כל מני מיונים ליחידו...      m\n",
       "2  מאז שהתחילו הלימודים חלומו של כל סטודנט זה הפנ...      f\n",
       "3  כשהייתי ילד, מטוסים היה הדבר שהכי ריתק אותי. ב...      m\n",
       "4  ‏הייתי מדריכה בכפר נוער ומתאם הכפר היינו צריכי...      f\n",
       "5  לפני כ3 חודשים טסתי לרומא למשך שבוע. טסתי במטו...      f\n",
       "6  אני כבר שנתיים נשוי והשנה אני ואישתי סוף סוף י...      m\n",
       "7  השנה התחלנו שיפוץ בדירה שלנו בתל אביב. הדירה ה...      f"
      ]
     },
     "execution_count": 8,
     "metadata": {},
     "output_type": "execute_result"
    },
    {
     "data": {
      "text/plain": [
       "(753, 2)"
      ]
     },
     "execution_count": 8,
     "metadata": {},
     "output_type": "execute_result"
    }
   ],
   "source": [
    "df_train.head(8)\n",
    "df_train.shape"
   ]
  },
  {
   "cell_type": "code",
   "execution_count": 9,
   "metadata": {},
   "outputs": [
    {
     "data": {
      "text/html": [
       "<div>\n",
       "<style scoped>\n",
       "    .dataframe tbody tr th:only-of-type {\n",
       "        vertical-align: middle;\n",
       "    }\n",
       "\n",
       "    .dataframe tbody tr th {\n",
       "        vertical-align: top;\n",
       "    }\n",
       "\n",
       "    .dataframe thead th {\n",
       "        text-align: right;\n",
       "    }\n",
       "</style>\n",
       "<table border=\"1\" class=\"dataframe\">\n",
       "  <thead>\n",
       "    <tr style=\"text-align: right;\">\n",
       "      <th></th>\n",
       "      <th>test_example_id</th>\n",
       "      <th>story</th>\n",
       "    </tr>\n",
       "  </thead>\n",
       "  <tbody>\n",
       "    <tr>\n",
       "      <th>0</th>\n",
       "      <td>0</td>\n",
       "      <td>כל קיץ אני והמשפחה נוסעים לארצות הברית לוס אנג...</td>\n",
       "    </tr>\n",
       "    <tr>\n",
       "      <th>1</th>\n",
       "      <td>1</td>\n",
       "      <td>הגעתי לשירות המדינה אחרי שנתיים כפעיל בתנועת \"...</td>\n",
       "    </tr>\n",
       "    <tr>\n",
       "      <th>2</th>\n",
       "      <td>2</td>\n",
       "      <td>אחת האהבות הגדולות שלי אלו הכלבים שלי ושל אישת...</td>\n",
       "    </tr>\n",
       "  </tbody>\n",
       "</table>\n",
       "</div>"
      ],
      "text/plain": [
       "   test_example_id                                              story\n",
       "0                0  כל קיץ אני והמשפחה נוסעים לארצות הברית לוס אנג...\n",
       "1                1  הגעתי לשירות המדינה אחרי שנתיים כפעיל בתנועת \"...\n",
       "2                2  אחת האהבות הגדולות שלי אלו הכלבים שלי ושל אישת..."
      ]
     },
     "execution_count": 9,
     "metadata": {},
     "output_type": "execute_result"
    },
    {
     "data": {
      "text/plain": [
       "(323, 2)"
      ]
     },
     "execution_count": 9,
     "metadata": {},
     "output_type": "execute_result"
    }
   ],
   "source": [
    "df_test.head(3)\n",
    "df_test.shape"
   ]
  },
  {
   "cell_type": "markdown",
   "metadata": {},
   "source": [
    "### Your implementation:\n",
    "Write your code solution in the following code-cells"
   ]
  },
  {
   "cell_type": "code",
   "execution_count": 54,
   "metadata": {},
   "outputs": [],
   "source": [
    "# YOUR CODE HERE\n",
    "from sklearn.feature_extraction.text import CountVectorizer\n",
    "from sklearn.model_selection import train_test_split\n",
    "from sklearn.naive_bayes import MultinomialNB\n",
    "from sklearn.metrics import accuracy_score\n",
    "import string\n",
    "import re\n",
    "from sklearn.svm import SVC\n",
    "from sklearn.metrics import f1_score, make_scorer\n",
    "from sklearn.linear_model import LogisticRegression\n",
    "from sklearn.ensemble import RandomForestClassifier\n",
    "from sklearn.exceptions import NotFittedError"
   ]
  },
  {
   "cell_type": "code",
   "execution_count": 55,
   "metadata": {},
   "outputs": [],
   "source": [
    "# YOUR CODE HERE\n",
    "df_train['story'] = df_train['story'].apply(lambda x: x.lower())"
   ]
  },
  {
   "cell_type": "code",
   "execution_count": 56,
   "metadata": {},
   "outputs": [
    {
     "name": "stdout",
     "output_type": "stream",
     "text": [
      "לפני כ חודשים טסתי לרומא למשך שבוע טסתי במטוס אל על הטיסה ארכה כ וחצי שעות לא היו עיכובים נחתנו בערך בשעה  בבוקר ברומא מהשדה תעופה נסענו למלון  משם הלכנו למזרקת טרווי  לפי אגדה מסורתית השלכת מטבע למזרקה ביד ימין מעבר לכתף שמאל מבטיחה את שובו של המשליך לרומא מעריכים כי מטבעות בשווי כשלושת אלפים אירו נגרפות מדי לילה מתחתית המזרקה הסתובבנו באזור של המזרקה לקראת הערב נסענו לארוחת ערב במלון  יום למחרת נסענו בבוקר לגני וילה בורגוזה  גן בסגנון אנגלי בגן מצויים מספר מבנים המשמשים כיום כמוזיאונים והוא הגן הציבורי השני בגודלו ברומא השכרנו אוטו גולף והיינו שם בערך כשעתיים משם המשכנו לפיאצה דל פופולו  כיכר ענקית שמשמעות השם באיטלקית המודרנית היא  כיכר העם  אחר כך הלכנו למלון   להשקה של המכונית    ואכלנו שם ארוחת צהרים בערב הלכנו להסתובב ברובע היהודי ובשכונת  יום אחרי זה נסענו לוותיקן  המדינה העצמאית הקטנה בעולם מבחינת שטחה  פחות ממחצית קמ ר בתוך העיר רומא שבאיטליה וכן מבחינת האוכלוסייה  כ נפשות שם נכנסנו לבזיליקת פטרוס הקדוש  מבנה הדת הנוצרי הגדול בעולם ויכול להכיל בתוכו עד כ איש בערב הלכנו לאכול פיצה באזור מזרקת הטרבי יום למחרת נסענו בבוקר לקוליסאום  שהוא למעשה אמפיתיאטרון ענק גודלו המדויק הוא  על  מטר וגובהו הוא  מטר  קומות בתקופת השיא שלו הוא איכלס בין  ל צופים משם המשכנו לפנתאון  מבנה שהוקם בסביבות שנת  לפנהס והמשמעות שלו היא  מקום סגידה לכל האלים  ביום האחרון הלכנו למדרכות הספרדיות גרם מדרגות הכולל  מדרגות שמקשר בין הפיאצה די ספניה כיכר ספרד לבין פיאצה טריניטה די מונטי וכנסיית טריניטה דיי מונטי המדרגות הספרדיות הן גרם המדרגות הרחב והארוך ביותר באירופה אחרי זה הלכנו לקניון    קניון של  קומות לאורך כל הטיול היה חם מאוד  בערך  מעלות אז אכלנו הרבה גלידה בסך הכול הטיול היה כיף ובעיקר טעים\n"
     ]
    }
   ],
   "source": [
    "# YOUR CODE HERE\n",
    "punctuations = string.punctuation + \"׃׀׆׳״\" \n",
    "df_train['story'] = df_train['story'].apply(lambda x: \"\".join([char for char in x if char not in punctuations]))\n",
    "pattern = r'[^א-ת\\s]|\\d'\n",
    "df_train['story'] =df_train['story'].apply(lambda x: re.sub(pattern, '', x))\n",
    "print(df_train.iloc[5]['story'])"
   ]
  },
  {
   "cell_type": "code",
   "execution_count": 74,
   "metadata": {},
   "outputs": [],
   "source": [
    "# Add as many code cells as you need\n",
    "# YOUR CODE HERE\n",
    "X_train = df_train['story']\n",
    "y_train = df_train['gender']\n",
    "vectorizer = CountVectorizer(ngram_range=(1,3), min_df=5, max_df=400, max_features=10000)\n",
    "X_train_features = vectorizer.fit_transform(X_train)"
   ]
  },
  {
   "cell_type": "code",
   "execution_count": 84,
   "metadata": {},
   "outputs": [],
   "source": [
    "models = [\n",
    "    ('SVM', SVC(), {'kernel': ['linear', 'rbf'], 'C': [1.0, 10.0]}),\n",
    "    ('Random Forest', RandomForestClassifier(), {'n_estimators': [100, 200], 'max_depth': [None, 5]}),\n",
    "    ('Logistic Regression', LogisticRegression(), {'C': [1.0, 10.0], 'solver': ['liblinear']}),\n",
    "    ('Naive Bayes', MultinomialNB(), {'alpha': [0.5, 1.0]}),\n",
    "    ('Decision Tree', DecisionTreeClassifier(), {'max_depth': [None, 5]}),\n",
    "    ('k-Nearest Neighbors', KNeighborsClassifier(), {'n_neighbors': [3, 5]}),]\n"
   ]
  },
  {
   "cell_type": "code",
   "execution_count": 85,
   "metadata": {
    "scrolled": true
   },
   "outputs": [
    {
     "data": {
      "text/plain": [
       "GridSearchCV(cv=10, estimator=SVC(),\n",
       "             param_grid={'C': [1.0, 10.0], 'kernel': ['linear', 'rbf']},\n",
       "             scoring=make_scorer(f1_score, average=macro))"
      ]
     },
     "execution_count": 85,
     "metadata": {},
     "output_type": "execute_result"
    },
    {
     "name": "stdout",
     "output_type": "stream",
     "text": [
      "Model: SVM\n",
      "Best Parameters: {'C': 1.0, 'kernel': 'linear'}\n",
      "Best F1 Score (Macro): 0.6675090262696929\n",
      "\n"
     ]
    },
    {
     "data": {
      "text/plain": [
       "GridSearchCV(cv=10, estimator=RandomForestClassifier(),\n",
       "             param_grid={'max_depth': [None, 5], 'n_estimators': [100, 200]},\n",
       "             scoring=make_scorer(f1_score, average=macro))"
      ]
     },
     "execution_count": 85,
     "metadata": {},
     "output_type": "execute_result"
    },
    {
     "name": "stdout",
     "output_type": "stream",
     "text": [
      "Model: Random Forest\n",
      "Best Parameters: {'max_depth': None, 'n_estimators': 100}\n",
      "Best F1 Score (Macro): 0.5773497494657054\n",
      "\n"
     ]
    },
    {
     "data": {
      "text/plain": [
       "GridSearchCV(cv=10, estimator=LogisticRegression(),\n",
       "             param_grid={'C': [1.0, 10.0], 'solver': ['liblinear']},\n",
       "             scoring=make_scorer(f1_score, average=macro))"
      ]
     },
     "execution_count": 85,
     "metadata": {},
     "output_type": "execute_result"
    },
    {
     "name": "stdout",
     "output_type": "stream",
     "text": [
      "Model: Logistic Regression\n",
      "Best Parameters: {'C': 1.0, 'solver': 'liblinear'}\n",
      "Best F1 Score (Macro): 0.6564824298156962\n",
      "\n"
     ]
    },
    {
     "data": {
      "text/plain": [
       "GridSearchCV(cv=10, estimator=MultinomialNB(), param_grid={'alpha': [0.5, 1.0]},\n",
       "             scoring=make_scorer(f1_score, average=macro))"
      ]
     },
     "execution_count": 85,
     "metadata": {},
     "output_type": "execute_result"
    },
    {
     "name": "stdout",
     "output_type": "stream",
     "text": [
      "Model: Naive Bayes\n",
      "Best Parameters: {'alpha': 0.5}\n",
      "Best F1 Score (Macro): 0.7081567916235643\n",
      "\n"
     ]
    },
    {
     "data": {
      "text/plain": [
       "GridSearchCV(cv=10, estimator=DecisionTreeClassifier(),\n",
       "             param_grid={'max_depth': [None, 5]},\n",
       "             scoring=make_scorer(f1_score, average=macro))"
      ]
     },
     "execution_count": 85,
     "metadata": {},
     "output_type": "execute_result"
    },
    {
     "name": "stdout",
     "output_type": "stream",
     "text": [
      "Model: Decision Tree\n",
      "Best Parameters: {'max_depth': None}\n",
      "Best F1 Score (Macro): 0.6226847734861337\n",
      "\n"
     ]
    },
    {
     "data": {
      "text/plain": [
       "GridSearchCV(cv=10, estimator=KNeighborsClassifier(),\n",
       "             param_grid={'n_neighbors': [3, 5]},\n",
       "             scoring=make_scorer(f1_score, average=macro))"
      ]
     },
     "execution_count": 85,
     "metadata": {},
     "output_type": "execute_result"
    },
    {
     "name": "stdout",
     "output_type": "stream",
     "text": [
      "Model: k-Nearest Neighbors\n",
      "Best Parameters: {'n_neighbors': 3}\n",
      "Best F1 Score (Macro): 0.4937781560626028\n",
      "\n"
     ]
    }
   ],
   "source": [
    "f1_macro = make_scorer(f1_score, average='macro')\n",
    "\n",
    "for model_name, model, param_grid in models:\n",
    "    grid_search = GridSearchCV(model, param_grid, scoring=f1_macro, cv=10)\n",
    "    grid_search.fit(X_train_features, y_train)\n",
    "    best_params = grid_search.best_params_\n",
    "    best_score = grid_search.best_score_\n",
    "    \n",
    "    print('Model:', model_name)\n",
    "    print('Best Parameters:', best_params)\n",
    "    print('Best F1 Score (Macro):', best_score)\n",
    "    print()"
   ]
  },
  {
   "cell_type": "code",
   "execution_count": 86,
   "metadata": {},
   "outputs": [
    {
     "name": "stdout",
     "output_type": "stream",
     "text": [
      "לפני כ חודשים טסתי לרומא למשך שבוע טסתי במטוס אל על הטיסה ארכה כ וחצי שעות לא היו עיכובים נחתנו בערך בשעה  בבוקר ברומא מהשדה תעופה נסענו למלון  משם הלכנו למזרקת טרווי  לפי אגדה מסורתית השלכת מטבע למזרקה ביד ימין מעבר לכתף שמאל מבטיחה את שובו של המשליך לרומא מעריכים כי מטבעות בשווי כשלושת אלפים אירו נגרפות מדי לילה מתחתית המזרקה הסתובבנו באזור של המזרקה לקראת הערב נסענו לארוחת ערב במלון  יום למחרת נסענו בבוקר לגני וילה בורגוזה  גן בסגנון אנגלי בגן מצויים מספר מבנים המשמשים כיום כמוזיאונים והוא הגן הציבורי השני בגודלו ברומא השכרנו אוטו גולף והיינו שם בערך כשעתיים משם המשכנו לפיאצה דל פופולו  כיכר ענקית שמשמעות השם באיטלקית המודרנית היא  כיכר העם  אחר כך הלכנו למלון   להשקה של המכונית    ואכלנו שם ארוחת צהרים בערב הלכנו להסתובב ברובע היהודי ובשכונת  יום אחרי זה נסענו לוותיקן  המדינה העצמאית הקטנה בעולם מבחינת שטחה  פחות ממחצית קמ ר בתוך העיר רומא שבאיטליה וכן מבחינת האוכלוסייה  כ נפשות שם נכנסנו לבזיליקת פטרוס הקדוש  מבנה הדת הנוצרי הגדול בעולם ויכול להכיל בתוכו עד כ איש בערב הלכנו לאכול פיצה באזור מזרקת הטרבי יום למחרת נסענו בבוקר לקוליסאום  שהוא למעשה אמפיתיאטרון ענק גודלו המדויק הוא  על  מטר וגובהו הוא  מטר  קומות בתקופת השיא שלו הוא איכלס בין  ל צופים משם המשכנו לפנתאון  מבנה שהוקם בסביבות שנת  לפנהס והמשמעות שלו היא  מקום סגידה לכל האלים  ביום האחרון הלכנו למדרכות הספרדיות גרם מדרגות הכולל  מדרגות שמקשר בין הפיאצה די ספניה כיכר ספרד לבין פיאצה טריניטה די מונטי וכנסיית טריניטה דיי מונטי המדרגות הספרדיות הן גרם המדרגות הרחב והארוך ביותר באירופה אחרי זה הלכנו לקניון    קניון של  קומות לאורך כל הטיול היה חם מאוד  בערך  מעלות אז אכלנו הרבה גלידה בסך הכול הטיול היה כיף ובעיקר טעים\n"
     ]
    }
   ],
   "source": [
    "df_test['story'] = df_train['story'].apply(lambda x: \"\".join([char for char in x if char not in punctuations]))\n",
    "pattern = r'[^א-ת\\s]|\\d'\n",
    "df_test['story'] =df_train['story'].apply(lambda x: re.sub(pattern, '', x))\n",
    "print(df_test.iloc[5]['story'])"
   ]
  },
  {
   "cell_type": "code",
   "execution_count": 101,
   "metadata": {},
   "outputs": [],
   "source": [
    "X_test = df_test['story']\n",
    "X_train_features = vectorizer.fit_transform(X_train)"
   ]
  },
  {
   "cell_type": "code",
   "execution_count": 102,
   "metadata": {},
   "outputs": [
    {
     "data": {
      "text/plain": [
       "MultinomialNB(alpha=0.5)"
      ]
     },
     "execution_count": 102,
     "metadata": {},
     "output_type": "execute_result"
    }
   ],
   "source": [
    "best_model = MultinomialNB(alpha=0.5)  # Replace with the best Naive Bayes model and best parameters\n",
    "best_model.fit(X_train_features, y_train)\n"
   ]
  },
  {
   "cell_type": "code",
   "execution_count": 104,
   "metadata": {},
   "outputs": [],
   "source": [
    "predictions = best_model.predict(X_test_features)"
   ]
  },
  {
   "cell_type": "code",
   "execution_count": 105,
   "metadata": {},
   "outputs": [
    {
     "data": {
      "text/plain": [
       "array(['m', 'm', 'f', 'm', 'f', 'f', 'm', 'f', 'm', 'f', 'm', 'f', 'f',\n",
       "       'm', 'f', 'f', 'm', 'm', 'm', 'm', 'm', 'm', 'f', 'f', 'm', 'm',\n",
       "       'f', 'f', 'm', 'm', 'f', 'm', 'f', 'm', 'm', 'm', 'm', 'f', 'f',\n",
       "       'm', 'm', 'm', 'm', 'm', 'm', 'm', 'f', 'm', 'f', 'm', 'f', 'm',\n",
       "       'm', 'm', 'm', 'm', 'f', 'm', 'f', 'm', 'f', 'f', 'm', 'm', 'm',\n",
       "       'm', 'm', 'f', 'm', 'm', 'f', 'm', 'm', 'f', 'm', 'm', 'm', 'f',\n",
       "       'm', 'm', 'f', 'm', 'm', 'm', 'm', 'm', 'm', 'm', 'f', 'm', 'm',\n",
       "       'f', 'm', 'f', 'm', 'm', 'f', 'f', 'f', 'm', 'f', 'm', 'm', 'm',\n",
       "       'f', 'm', 'm', 'm', 'f', 'm', 'm', 'm', 'm', 'f', 'm', 'm', 'f',\n",
       "       'm', 'm', 'm', 'm', 'm', 'm', 'm', 'm', 'f', 'm', 'm', 'f', 'm',\n",
       "       'm', 'm', 'm', 'm', 'f', 'm', 'm', 'm', 'f', 'm', 'm', 'f', 'f',\n",
       "       'm', 'm', 'f', 'm', 'm', 'm', 'f', 'm', 'm', 'f', 'm', 'm', 'f',\n",
       "       'm', 'm', 'm', 'm', 'm', 'm', 'm', 'm', 'm', 'f', 'm', 'm', 'm',\n",
       "       'f', 'm', 'm', 'm', 'm', 'm', 'm', 'f', 'f', 'm', 'f', 'f', 'm',\n",
       "       'f', 'f', 'm', 'm', 'm', 'f', 'm', 'm', 'm', 'm', 'm', 'm', 'm',\n",
       "       'f', 'm', 'm', 'm', 'm', 'm', 'm', 'm', 'f', 'm', 'f', 'm', 'm',\n",
       "       'm', 'm', 'm', 'm', 'f', 'm', 'm', 'f', 'm', 'm', 'f', 'f', 'm',\n",
       "       'm', 'm', 'm', 'f', 'm', 'm', 'm', 'm', 'f', 'f', 'f', 'm', 'm',\n",
       "       'm', 'f', 'm', 'm', 'f', 'm', 'f', 'm', 'm', 'm', 'm', 'm', 'm',\n",
       "       'm', 'm', 'f', 'f', 'm', 'm', 'm', 'm', 'm', 'm', 'm', 'm', 'm',\n",
       "       'm', 'm', 'm', 'f', 'f', 'm', 'f', 'm', 'm', 'm', 'm', 'f', 'm',\n",
       "       'f', 'f', 'f', 'f', 'm', 'm', 'm', 'm', 'f', 'm', 'm', 'm', 'm',\n",
       "       'm', 'f', 'm', 'f', 'f', 'm', 'm', 'm', 'f', 'm', 'm', 'f', 'm',\n",
       "       'm', 'm', 'f', 'f', 'm', 'm', 'f', 'f', 'm', 'm', 'm', 'm', 'f',\n",
       "       'm', 'f', 'm', 'm', 'm', 'm', 'm', 'm', 'f', 'm', 'm'], dtype='<U1')"
      ]
     },
     "execution_count": 105,
     "metadata": {},
     "output_type": "execute_result"
    }
   ],
   "source": [
    "predictions"
   ]
  },
  {
   "cell_type": "code",
   "execution_count": null,
   "metadata": {},
   "outputs": [],
   "source": []
  },
  {
   "cell_type": "code",
   "execution_count": null,
   "metadata": {},
   "outputs": [],
   "source": []
  },
  {
   "cell_type": "code",
   "execution_count": null,
   "metadata": {},
   "outputs": [],
   "source": []
  },
  {
   "cell_type": "markdown",
   "metadata": {},
   "source": [
    "### Save output to csv (optional)\n",
    "After you're done save your output to the 'classification_results.csv' csv file.<br/>\n",
    "We assume that the dataframe with your results contain the following columns:\n",
    "* column 1 (left column): 'test_example_id'  - the same id associated to each of the test stories to be predicted.\n",
    "* column 2 (right column): 'predicted_category' - the predicted gender value for each of the associated story. \n",
    "\n",
    "Assuming your predicted values are in the `df_predicted` dataframe, you should save you're results as following:"
   ]
  },
  {
   "cell_type": "code",
   "execution_count": null,
   "metadata": {},
   "outputs": [],
   "source": [
    "df_predicted.to_csv('classification_results.csv',index=False)"
   ]
  }
 ],
 "metadata": {
  "celltoolbar": "Create Assignment",
  "kernelspec": {
   "display_name": "Python 3 (ipykernel)",
   "language": "python",
   "name": "python3"
  },
  "language_info": {
   "codemirror_mode": {
    "name": "ipython",
    "version": 3
   },
   "file_extension": ".py",
   "mimetype": "text/x-python",
   "name": "python",
   "nbconvert_exporter": "python",
   "pygments_lexer": "ipython3",
   "version": "3.9.13"
  }
 },
 "nbformat": 4,
 "nbformat_minor": 4
}
